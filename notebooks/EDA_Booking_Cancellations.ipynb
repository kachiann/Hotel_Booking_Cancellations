{
 "cells": [
  {
   "cell_type": "markdown",
   "metadata": {},
   "source": [
    "# **Exploratory Data Analysis: Hotel Booking Cancellations**\n",
    "\n",
    "### **Project Overview**:\n",
    "\n",
    "INN Hotels Group faces significant revenue loss due to booking cancellations. This project aims to develop a machine learning solution to predict cancellation likelihood, enabling proactive measures to mitigate losses.\n",
    "\n",
    "### **Problem Statement**\n",
    "\n",
    "- Current cancellation rate: 18% (all-time high)\n",
    "- Annual revenue loss: ~$0.25 million\n",
    "- No existing predictive mechanism\n",
    "\n",
    "### **Objective**\n",
    "\n",
    "Develop a ML model to forecast booking cancellation probabilities, allowing for:\n",
    "\n",
    "1. Dynamic pricing strategies\n",
    "2. Targeted retention campaigns\n",
    "3. Optimized overbooking policies\n",
    "\n",
    "By accurately predicting cancellations, INN Hotels Group can minimize inventory loss and maximize revenue.\n",
    "\n",
    "\n",
    "**Note**: In this notebook, we will focus on Exploratory Data Analysis (EDA). That is, we will\n",
    "- Identify key factors influencing hotel booking cancellations\n",
    "- Analyze patterns in cancellation rates across various dimensions\n",
    "- Visualize relationships between booking features and cancellations\n",
    "- Prepare the groundwork for developing a predictive model\n",
    "\n",
    "\n",
    "---"
   ]
  },
  {
   "cell_type": "markdown",
   "metadata": {},
   "source": [
    "## 1. **Import necessary libraries**"
   ]
  },
  {
   "cell_type": "code",
   "execution_count": 2,
   "metadata": {},
   "outputs": [],
   "source": [
    "# For reading and manipulating data\n",
    "import pandas as pd\n",
    "import numpy as np\n",
    "\n",
    "# For data visualization\n",
    "import matplotlib.pyplot as plt\n",
    "import seaborn as sns\n",
    "\n",
    "\n",
    "# Ignore all warnings\n",
    "import warnings\n",
    "warnings.filterwarnings(\"ignore\")"
   ]
  },
  {
   "cell_type": "markdown",
   "metadata": {},
   "source": [
    "## 2. **Load the dataset**"
   ]
  },
  {
   "cell_type": "code",
   "execution_count": 6,
   "metadata": {},
   "outputs": [],
   "source": [
    "# Loading the data into a Pandas dataframe\n",
    "hotel = pd.read_csv(\"../data/INNHotelsGroup.csv\")"
   ]
  },
  {
   "cell_type": "code",
   "execution_count": 7,
   "metadata": {},
   "outputs": [
    {
     "data": {
      "text/html": [
       "<div>\n",
       "<style scoped>\n",
       "    .dataframe tbody tr th:only-of-type {\n",
       "        vertical-align: middle;\n",
       "    }\n",
       "\n",
       "    .dataframe tbody tr th {\n",
       "        vertical-align: top;\n",
       "    }\n",
       "\n",
       "    .dataframe thead th {\n",
       "        text-align: right;\n",
       "    }\n",
       "</style>\n",
       "<table border=\"1\" class=\"dataframe\">\n",
       "  <thead>\n",
       "    <tr style=\"text-align: right;\">\n",
       "      <th></th>\n",
       "      <th>lead_time</th>\n",
       "      <th>market_segment_type</th>\n",
       "      <th>no_of_special_requests</th>\n",
       "      <th>avg_price_per_room</th>\n",
       "      <th>no_of_adults</th>\n",
       "      <th>no_of_weekend_nights</th>\n",
       "      <th>arrival_date</th>\n",
       "      <th>required_car_parking_space</th>\n",
       "      <th>no_of_week_nights</th>\n",
       "      <th>booking_status</th>\n",
       "    </tr>\n",
       "  </thead>\n",
       "  <tbody>\n",
       "    <tr>\n",
       "      <th>0</th>\n",
       "      <td>224</td>\n",
       "      <td>Offline</td>\n",
       "      <td>0</td>\n",
       "      <td>65.00</td>\n",
       "      <td>2</td>\n",
       "      <td>1</td>\n",
       "      <td>2017-10-02</td>\n",
       "      <td>0</td>\n",
       "      <td>2</td>\n",
       "      <td>Not_Canceled</td>\n",
       "    </tr>\n",
       "    <tr>\n",
       "      <th>1</th>\n",
       "      <td>5</td>\n",
       "      <td>Online</td>\n",
       "      <td>1</td>\n",
       "      <td>106.68</td>\n",
       "      <td>2</td>\n",
       "      <td>2</td>\n",
       "      <td>2018-11-06</td>\n",
       "      <td>0</td>\n",
       "      <td>3</td>\n",
       "      <td>Not_Canceled</td>\n",
       "    </tr>\n",
       "    <tr>\n",
       "      <th>2</th>\n",
       "      <td>1</td>\n",
       "      <td>Online</td>\n",
       "      <td>0</td>\n",
       "      <td>60.00</td>\n",
       "      <td>1</td>\n",
       "      <td>2</td>\n",
       "      <td>2018-02-28</td>\n",
       "      <td>0</td>\n",
       "      <td>1</td>\n",
       "      <td>Canceled</td>\n",
       "    </tr>\n",
       "    <tr>\n",
       "      <th>3</th>\n",
       "      <td>211</td>\n",
       "      <td>Online</td>\n",
       "      <td>0</td>\n",
       "      <td>100.00</td>\n",
       "      <td>2</td>\n",
       "      <td>0</td>\n",
       "      <td>2018-05-20</td>\n",
       "      <td>0</td>\n",
       "      <td>2</td>\n",
       "      <td>Canceled</td>\n",
       "    </tr>\n",
       "    <tr>\n",
       "      <th>4</th>\n",
       "      <td>48</td>\n",
       "      <td>Online</td>\n",
       "      <td>0</td>\n",
       "      <td>94.50</td>\n",
       "      <td>2</td>\n",
       "      <td>1</td>\n",
       "      <td>2018-04-11</td>\n",
       "      <td>0</td>\n",
       "      <td>1</td>\n",
       "      <td>Canceled</td>\n",
       "    </tr>\n",
       "    <tr>\n",
       "      <th>5</th>\n",
       "      <td>346</td>\n",
       "      <td>Online</td>\n",
       "      <td>1</td>\n",
       "      <td>115.00</td>\n",
       "      <td>2</td>\n",
       "      <td>0</td>\n",
       "      <td>2018-09-13</td>\n",
       "      <td>0</td>\n",
       "      <td>2</td>\n",
       "      <td>Canceled</td>\n",
       "    </tr>\n",
       "    <tr>\n",
       "      <th>6</th>\n",
       "      <td>34</td>\n",
       "      <td>Online</td>\n",
       "      <td>1</td>\n",
       "      <td>107.55</td>\n",
       "      <td>2</td>\n",
       "      <td>1</td>\n",
       "      <td>2017-10-15</td>\n",
       "      <td>0</td>\n",
       "      <td>3</td>\n",
       "      <td>Not_Canceled</td>\n",
       "    </tr>\n",
       "    <tr>\n",
       "      <th>7</th>\n",
       "      <td>83</td>\n",
       "      <td>Online</td>\n",
       "      <td>1</td>\n",
       "      <td>105.61</td>\n",
       "      <td>2</td>\n",
       "      <td>1</td>\n",
       "      <td>2018-12-26</td>\n",
       "      <td>0</td>\n",
       "      <td>3</td>\n",
       "      <td>Not_Canceled</td>\n",
       "    </tr>\n",
       "    <tr>\n",
       "      <th>8</th>\n",
       "      <td>121</td>\n",
       "      <td>Offline</td>\n",
       "      <td>1</td>\n",
       "      <td>96.90</td>\n",
       "      <td>3</td>\n",
       "      <td>0</td>\n",
       "      <td>2018-07-06</td>\n",
       "      <td>0</td>\n",
       "      <td>4</td>\n",
       "      <td>Not_Canceled</td>\n",
       "    </tr>\n",
       "    <tr>\n",
       "      <th>9</th>\n",
       "      <td>44</td>\n",
       "      <td>Online</td>\n",
       "      <td>3</td>\n",
       "      <td>133.44</td>\n",
       "      <td>2</td>\n",
       "      <td>0</td>\n",
       "      <td>2018-10-18</td>\n",
       "      <td>0</td>\n",
       "      <td>5</td>\n",
       "      <td>Not_Canceled</td>\n",
       "    </tr>\n",
       "  </tbody>\n",
       "</table>\n",
       "</div>"
      ],
      "text/plain": [
       "   lead_time market_segment_type  no_of_special_requests  avg_price_per_room  \\\n",
       "0        224             Offline                       0               65.00   \n",
       "1          5              Online                       1              106.68   \n",
       "2          1              Online                       0               60.00   \n",
       "3        211              Online                       0              100.00   \n",
       "4         48              Online                       0               94.50   \n",
       "5        346              Online                       1              115.00   \n",
       "6         34              Online                       1              107.55   \n",
       "7         83              Online                       1              105.61   \n",
       "8        121             Offline                       1               96.90   \n",
       "9         44              Online                       3              133.44   \n",
       "\n",
       "   no_of_adults  no_of_weekend_nights arrival_date  \\\n",
       "0             2                     1   2017-10-02   \n",
       "1             2                     2   2018-11-06   \n",
       "2             1                     2   2018-02-28   \n",
       "3             2                     0   2018-05-20   \n",
       "4             2                     1   2018-04-11   \n",
       "5             2                     0   2018-09-13   \n",
       "6             2                     1   2017-10-15   \n",
       "7             2                     1   2018-12-26   \n",
       "8             3                     0   2018-07-06   \n",
       "9             2                     0   2018-10-18   \n",
       "\n",
       "   required_car_parking_space  no_of_week_nights booking_status  \n",
       "0                           0                  2   Not_Canceled  \n",
       "1                           0                  3   Not_Canceled  \n",
       "2                           0                  1       Canceled  \n",
       "3                           0                  2       Canceled  \n",
       "4                           0                  1       Canceled  \n",
       "5                           0                  2       Canceled  \n",
       "6                           0                  3   Not_Canceled  \n",
       "7                           0                  3   Not_Canceled  \n",
       "8                           0                  4   Not_Canceled  \n",
       "9                           0                  5   Not_Canceled  "
      ]
     },
     "execution_count": 7,
     "metadata": {},
     "output_type": "execute_result"
    }
   ],
   "source": [
    "# Overview of the dataset\n",
    "hotel.head(10)"
   ]
  },
  {
   "cell_type": "markdown",
   "metadata": {},
   "source": [
    "### About the dataset"
   ]
  },
  {
   "cell_type": "code",
   "execution_count": 8,
   "metadata": {},
   "outputs": [
    {
     "name": "stdout",
     "output_type": "stream",
     "text": [
      "There are 36275 rows and 10 columns in the dataset.\n"
     ]
    }
   ],
   "source": [
    "print(f'There are {hotel.shape[0]} rows and {hotel.shape[1]} columns in the dataset.')"
   ]
  },
  {
   "cell_type": "markdown",
   "metadata": {},
   "source": [
    "**Numerical or Categorical Data type**\n",
    "\n",
    "1. **lead_time**: Numerical (Discrete) - The number of days between booking and arrival\n",
    "2. **market_segment_type**:Categorical (Norminal) - **Online or Offline**\n",
    "3. **no_of_special_requests**: Numerical (Discrete) - Number of special requests made by guests\n",
    "4. **avg_price_per_room**: Numerical (Continuous) - Average price per room for the booking\n",
    "5. **no_of_adults**: Numerical (Discrete) - Number of adults included in the booking\n",
    "6. **no_of_weekend_nights**: Numerical (Discrete) - Number of weekend nights (Friday/Saturday) booked.\n",
    "7. **arrival_date**: Datetime - Date of arrival\n",
    "8. **required_car_parking_space**: Categorical (Norminal) - Whether parking space was requested\n",
    "9. **no_of_week_nights**: Numerical (Discrete) - Number of weekday nights (Sunday through Thursday) booked\n",
    "10. **booking_status**: Categorical (Norminal) - Target Column - **Canceled or Not_Canceled**"
   ]
  },
  {
   "cell_type": "markdown",
   "metadata": {},
   "source": [
    "## 3. **Exploratory Data Analysis**"
   ]
  },
  {
   "cell_type": "code",
   "execution_count": 9,
   "metadata": {},
   "outputs": [],
   "source": [
    "# Copy of the data\n",
    "data = hotel.copy()"
   ]
  },
  {
   "cell_type": "code",
   "execution_count": 10,
   "metadata": {},
   "outputs": [
    {
     "name": "stdout",
     "output_type": "stream",
     "text": [
      "<class 'pandas.core.frame.DataFrame'>\n",
      "RangeIndex: 36275 entries, 0 to 36274\n",
      "Data columns (total 10 columns):\n",
      " #   Column                      Non-Null Count  Dtype  \n",
      "---  ------                      --------------  -----  \n",
      " 0   lead_time                   36275 non-null  int64  \n",
      " 1   market_segment_type         36275 non-null  object \n",
      " 2   no_of_special_requests      36275 non-null  int64  \n",
      " 3   avg_price_per_room          36275 non-null  float64\n",
      " 4   no_of_adults                36275 non-null  int64  \n",
      " 5   no_of_weekend_nights        36275 non-null  int64  \n",
      " 6   arrival_date                36275 non-null  object \n",
      " 7   required_car_parking_space  36275 non-null  int64  \n",
      " 8   no_of_week_nights           36275 non-null  int64  \n",
      " 9   booking_status              36275 non-null  object \n",
      "dtypes: float64(1), int64(6), object(3)\n",
      "memory usage: 2.8+ MB\n"
     ]
    }
   ],
   "source": [
    "data.info()"
   ]
  },
  {
   "cell_type": "markdown",
   "metadata": {},
   "source": [
    "There are no missing data."
   ]
  },
  {
   "cell_type": "code",
   "execution_count": 11,
   "metadata": {},
   "outputs": [
    {
     "data": {
      "text/html": [
       "<div>\n",
       "<style scoped>\n",
       "    .dataframe tbody tr th:only-of-type {\n",
       "        vertical-align: middle;\n",
       "    }\n",
       "\n",
       "    .dataframe tbody tr th {\n",
       "        vertical-align: top;\n",
       "    }\n",
       "\n",
       "    .dataframe thead th {\n",
       "        text-align: right;\n",
       "    }\n",
       "</style>\n",
       "<table border=\"1\" class=\"dataframe\">\n",
       "  <thead>\n",
       "    <tr style=\"text-align: right;\">\n",
       "      <th></th>\n",
       "      <th>count</th>\n",
       "      <th>unique</th>\n",
       "      <th>top</th>\n",
       "      <th>freq</th>\n",
       "      <th>mean</th>\n",
       "      <th>std</th>\n",
       "      <th>min</th>\n",
       "      <th>25%</th>\n",
       "      <th>50%</th>\n",
       "      <th>75%</th>\n",
       "      <th>max</th>\n",
       "    </tr>\n",
       "  </thead>\n",
       "  <tbody>\n",
       "    <tr>\n",
       "      <th>lead_time</th>\n",
       "      <td>36275.0</td>\n",
       "      <td>NaN</td>\n",
       "      <td>NaN</td>\n",
       "      <td>NaN</td>\n",
       "      <td>85.232557</td>\n",
       "      <td>85.930817</td>\n",
       "      <td>0.0</td>\n",
       "      <td>17.0</td>\n",
       "      <td>57.0</td>\n",
       "      <td>126.0</td>\n",
       "      <td>443.0</td>\n",
       "    </tr>\n",
       "    <tr>\n",
       "      <th>market_segment_type</th>\n",
       "      <td>36275</td>\n",
       "      <td>2</td>\n",
       "      <td>Online</td>\n",
       "      <td>25747</td>\n",
       "      <td>NaN</td>\n",
       "      <td>NaN</td>\n",
       "      <td>NaN</td>\n",
       "      <td>NaN</td>\n",
       "      <td>NaN</td>\n",
       "      <td>NaN</td>\n",
       "      <td>NaN</td>\n",
       "    </tr>\n",
       "    <tr>\n",
       "      <th>no_of_special_requests</th>\n",
       "      <td>36275.0</td>\n",
       "      <td>NaN</td>\n",
       "      <td>NaN</td>\n",
       "      <td>NaN</td>\n",
       "      <td>0.619655</td>\n",
       "      <td>0.786236</td>\n",
       "      <td>0.0</td>\n",
       "      <td>0.0</td>\n",
       "      <td>0.0</td>\n",
       "      <td>1.0</td>\n",
       "      <td>5.0</td>\n",
       "    </tr>\n",
       "    <tr>\n",
       "      <th>avg_price_per_room</th>\n",
       "      <td>36275.0</td>\n",
       "      <td>NaN</td>\n",
       "      <td>NaN</td>\n",
       "      <td>NaN</td>\n",
       "      <td>103.423539</td>\n",
       "      <td>35.089424</td>\n",
       "      <td>0.0</td>\n",
       "      <td>80.3</td>\n",
       "      <td>99.45</td>\n",
       "      <td>120.0</td>\n",
       "      <td>540.0</td>\n",
       "    </tr>\n",
       "    <tr>\n",
       "      <th>no_of_adults</th>\n",
       "      <td>36275.0</td>\n",
       "      <td>NaN</td>\n",
       "      <td>NaN</td>\n",
       "      <td>NaN</td>\n",
       "      <td>1.844962</td>\n",
       "      <td>0.518715</td>\n",
       "      <td>0.0</td>\n",
       "      <td>2.0</td>\n",
       "      <td>2.0</td>\n",
       "      <td>2.0</td>\n",
       "      <td>4.0</td>\n",
       "    </tr>\n",
       "    <tr>\n",
       "      <th>no_of_weekend_nights</th>\n",
       "      <td>36275.0</td>\n",
       "      <td>NaN</td>\n",
       "      <td>NaN</td>\n",
       "      <td>NaN</td>\n",
       "      <td>0.810724</td>\n",
       "      <td>0.870644</td>\n",
       "      <td>0.0</td>\n",
       "      <td>0.0</td>\n",
       "      <td>1.0</td>\n",
       "      <td>2.0</td>\n",
       "      <td>7.0</td>\n",
       "    </tr>\n",
       "    <tr>\n",
       "      <th>arrival_date</th>\n",
       "      <td>36275</td>\n",
       "      <td>549</td>\n",
       "      <td>2018-10-13</td>\n",
       "      <td>254</td>\n",
       "      <td>NaN</td>\n",
       "      <td>NaN</td>\n",
       "      <td>NaN</td>\n",
       "      <td>NaN</td>\n",
       "      <td>NaN</td>\n",
       "      <td>NaN</td>\n",
       "      <td>NaN</td>\n",
       "    </tr>\n",
       "    <tr>\n",
       "      <th>required_car_parking_space</th>\n",
       "      <td>36275.0</td>\n",
       "      <td>NaN</td>\n",
       "      <td>NaN</td>\n",
       "      <td>NaN</td>\n",
       "      <td>0.030986</td>\n",
       "      <td>0.173281</td>\n",
       "      <td>0.0</td>\n",
       "      <td>0.0</td>\n",
       "      <td>0.0</td>\n",
       "      <td>0.0</td>\n",
       "      <td>1.0</td>\n",
       "    </tr>\n",
       "    <tr>\n",
       "      <th>no_of_week_nights</th>\n",
       "      <td>36275.0</td>\n",
       "      <td>NaN</td>\n",
       "      <td>NaN</td>\n",
       "      <td>NaN</td>\n",
       "      <td>2.2043</td>\n",
       "      <td>1.410905</td>\n",
       "      <td>0.0</td>\n",
       "      <td>1.0</td>\n",
       "      <td>2.0</td>\n",
       "      <td>3.0</td>\n",
       "      <td>17.0</td>\n",
       "    </tr>\n",
       "    <tr>\n",
       "      <th>booking_status</th>\n",
       "      <td>36275</td>\n",
       "      <td>2</td>\n",
       "      <td>Not_Canceled</td>\n",
       "      <td>24390</td>\n",
       "      <td>NaN</td>\n",
       "      <td>NaN</td>\n",
       "      <td>NaN</td>\n",
       "      <td>NaN</td>\n",
       "      <td>NaN</td>\n",
       "      <td>NaN</td>\n",
       "      <td>NaN</td>\n",
       "    </tr>\n",
       "  </tbody>\n",
       "</table>\n",
       "</div>"
      ],
      "text/plain": [
       "                              count unique           top   freq        mean  \\\n",
       "lead_time                   36275.0    NaN           NaN    NaN   85.232557   \n",
       "market_segment_type           36275      2        Online  25747         NaN   \n",
       "no_of_special_requests      36275.0    NaN           NaN    NaN    0.619655   \n",
       "avg_price_per_room          36275.0    NaN           NaN    NaN  103.423539   \n",
       "no_of_adults                36275.0    NaN           NaN    NaN    1.844962   \n",
       "no_of_weekend_nights        36275.0    NaN           NaN    NaN    0.810724   \n",
       "arrival_date                  36275    549    2018-10-13    254         NaN   \n",
       "required_car_parking_space  36275.0    NaN           NaN    NaN    0.030986   \n",
       "no_of_week_nights           36275.0    NaN           NaN    NaN      2.2043   \n",
       "booking_status                36275      2  Not_Canceled  24390         NaN   \n",
       "\n",
       "                                  std  min   25%    50%    75%    max  \n",
       "lead_time                   85.930817  0.0  17.0   57.0  126.0  443.0  \n",
       "market_segment_type               NaN  NaN   NaN    NaN    NaN    NaN  \n",
       "no_of_special_requests       0.786236  0.0   0.0    0.0    1.0    5.0  \n",
       "avg_price_per_room          35.089424  0.0  80.3  99.45  120.0  540.0  \n",
       "no_of_adults                 0.518715  0.0   2.0    2.0    2.0    4.0  \n",
       "no_of_weekend_nights         0.870644  0.0   0.0    1.0    2.0    7.0  \n",
       "arrival_date                      NaN  NaN   NaN    NaN    NaN    NaN  \n",
       "required_car_parking_space   0.173281  0.0   0.0    0.0    0.0    1.0  \n",
       "no_of_week_nights            1.410905  0.0   1.0    2.0    3.0   17.0  \n",
       "booking_status                    NaN  NaN   NaN    NaN    NaN    NaN  "
      ]
     },
     "execution_count": 11,
     "metadata": {},
     "output_type": "execute_result"
    }
   ],
   "source": [
    "# Statistical summary of the data\n",
    "data.describe(include='all').T"
   ]
  },
  {
   "cell_type": "markdown",
   "metadata": {},
   "source": [
    "**Observations**:\n",
    "- **lead_time**: Average lead time is around 85 days, with a standard deviation of about 86 days. This suggests a high variability in the lead time, indicating that some bookings are made very close to the arrival date while others are made far in advance. The significant difference between the 75th percentile (126 days) and the maximum value (443 days) indicates the presence of potential outlier.\n",
    "- **market_segment_type**: Majority of bookings are 'Online'.\n",
    "- **no_of_special_requests**: Most bookings (median and 75th percentile) do not have special requests.\n",
    "- **avg_price_per_room**: The average price per room is approximately 103.42 dollars, which is higher than the median of 99.45 dollars. The maximum value is significantly higher (540 dollars) per room compared to the 75th percentile (120 dollars), suggesting the presence of potential outliers. Also we have some rooms that cost 0 dollars. \n",
    "- **no_of_adults**: Typically 2 adults per booking with the max about 4 adults.\n",
    "- Most bookings involve 1 weekend night and 2 week nights on average. The maximum value of 7 weekend nights is quite high compared to the 75th percentile (2 nights).\n",
    "- **required_car_parking_space**: Very few bookings (around 3%) requested parking space"
   ]
  },
  {
   "cell_type": "markdown",
   "metadata": {},
   "source": [
    "### Data Visualization"
   ]
  },
  {
   "cell_type": "code",
   "execution_count": 12,
   "metadata": {},
   "outputs": [
    {
     "data": {
      "image/png": "[encoded data removed]",
      "text/plain": [
       "<Figure size 576x432 with 1 Axes>"
      ]
     },
     "metadata": {
      "needs_background": "light"
     },
     "output_type": "display_data"
    },
    {
     "name": "stdout",
     "output_type": "stream",
     "text": [
      "Booking Status Counts:\n",
      "booking_status\n",
      "Not_Canceled    24390\n",
      "Canceled        11885\n",
      "Name: count, dtype: int64\n"
     ]
    }
   ],
   "source": [
    "# Booking Status\n",
    "\n",
    "# Count the number of occurrences for each booking status (Canceled and Not_Canceled)\n",
    "status_counts = data['booking_status'].value_counts()\n",
    "\n",
    "# Calculate the percentage of each booking status\n",
    "status_percentages = (status_counts / len(data)) * 100\n",
    "# Plotting\n",
    "plt.figure(figsize=(8, 6))\n",
    "sns.barplot(x=status_counts.index, y=status_counts.values)\n",
    "plt.title('Distribution of Booking Status')\n",
    "plt.xlabel('Booking Status')\n",
    "plt.ylabel('Count')\n",
    "\n",
    "# Annotate the bars with the percentage values\n",
    "for index, value in enumerate(status_counts.values):\n",
    "    plt.text(index, value + 500, f'{status_percentages[index]:.2f}%', ha='center', color='black')\n",
    "\n",
    "plt.show()\n",
    "\n",
    "# Print counts and percentages\n",
    "print(\"Booking Status Counts:\")\n",
    "print(status_counts)"
   ]
  },
  {
   "cell_type": "code",
   "execution_count": 13,
   "metadata": {},
   "outputs": [
    {
     "data": {
      "image/png": "[encoded data removed]",
      "text/plain": [
       "<Figure size 576x432 with 1 Axes>"
      ]
     },
     "metadata": {
      "needs_background": "light"
     },
     "output_type": "display_data"
    },
    {
     "name": "stdout",
     "output_type": "stream",
     "text": [
      "Market Segment Type Counts:\n",
      "market_segment_type\n",
      "Online     25747\n",
      "Offline    10528\n",
      "Name: count, dtype: int64\n"
     ]
    }
   ],
   "source": [
    "# Market Segment Type\n",
    "\n",
    "# Count the number of occurrences for each market_segment_type (Offline and Online)\n",
    "segment_counts = data['market_segment_type'].value_counts()\n",
    "\n",
    "# Calculate the percentage of each booking status\n",
    "segment_percentages = (segment_counts / len(data)) * 100\n",
    "# Plotting\n",
    "plt.figure(figsize=(8, 6))\n",
    "sns.barplot(x=segment_counts.index, y=segment_counts.values)\n",
    "plt.title('Distribution of Market Segment Type')\n",
    "plt.xlabel('Mrket Segment Type')\n",
    "plt.ylabel('Count')\n",
    "\n",
    "# Annotate the bars with the percentage values\n",
    "for index, value in enumerate(segment_counts.values):\n",
    "    plt.text(index, value + 500, f'{segment_percentages[index]:.2f}%', ha='center', color='black')\n",
    "\n",
    "plt.show()\n",
    "\n",
    "# Print counts and percentages\n",
    "print(\"Market Segment Type Counts:\")\n",
    "print(segment_counts)"
   ]
  },
  {
   "cell_type": "markdown",
   "metadata": {},
   "source": [
    "The majority of the bookings are made through the online market segment, accounting for approximately 70.99% of the total bookings. This suggests a strong preference or reliance on online booking platforms by customers.\n",
    "\n",
    "---"
   ]
  },
  {
   "cell_type": "code",
   "execution_count": 14,
   "metadata": {},
   "outputs": [
    {
     "data": {
      "image/png": "[encoded data removed]",
      "text/plain": [
       "<Figure size 1008x576 with 9 Axes>"
      ]
     },
     "metadata": {
      "needs_background": "light"
     },
     "output_type": "display_data"
    }
   ],
   "source": [
    "# Create a histogram for each numeric column in the dataframe\n",
    "data.hist(figsize=(14, 8), edgecolor='black',color='skyblue')\n",
    "plt.show()"
   ]
  },
  {
   "cell_type": "markdown",
   "metadata": {},
   "source": [
    "---"
   ]
  },
  {
   "cell_type": "code",
   "execution_count": 15,
   "metadata": {},
   "outputs": [
    {
     "data": {
      "image/png": "[encoded data removed]",
      "text/plain": [
       "<Figure size 720x432 with 1 Axes>"
      ]
     },
     "metadata": {
      "needs_background": "light"
     },
     "output_type": "display_data"
    }
   ],
   "source": [
    "# Visualizing the relationship between lead time and booking cancellation\n",
    "plt.figure(figsize=(10, 6))\n",
    "sns.boxplot(data=data, x=\"booking_status\", y=\"lead_time\", palette=\"Set2\")\n",
    "plt.xticks(fontsize=12)\n",
    "plt.yticks(fontsize=12)\n",
    "plt.xlabel('Booking Status', fontsize=15)\n",
    "plt.ylabel('Lead Time (days)', fontsize=15)\n",
    "plt.title('Lead Time Distribution by Booking Status', fontsize=18)\n",
    "plt.grid(True)\n",
    "plt.show()"
   ]
  },
  {
   "cell_type": "markdown",
   "metadata": {},
   "source": [
    "- The median lead time for bookings that were canceled is longer compared to those that were not canceled. This indicates that customers who book further in advance are more likely to cancel their reservations.\n",
    "- The median lead time for not canceled bookings is shorter, suggesting that last-minute bookings are more prone to no cancellations."
   ]
  },
  {
   "cell_type": "code",
   "execution_count": 16,
   "metadata": {},
   "outputs": [
    {
     "data": {
      "image/png": "[encoded data removed]",
      "text/plain": [
       "<Figure size 720x432 with 1 Axes>"
      ]
     },
     "metadata": {
      "needs_background": "light"
     },
     "output_type": "display_data"
    }
   ],
   "source": [
    "# Visualizing the relationship between avg. price and booking cancellation\n",
    "plt.figure(figsize=(10, 6))\n",
    "sns.boxplot(data=data, x=\"booking_status\", y=\"avg_price_per_room\", palette=\"Set2\")\n",
    "plt.xticks(fontsize=12)\n",
    "plt.yticks(fontsize=12)\n",
    "plt.xlabel('Booking Status', fontsize=15)\n",
    "plt.ylabel('Avg. Price', fontsize=15)\n",
    "plt.title('Avg. Price Distribution by Booking Status', fontsize=18)\n",
    "plt.grid(True)\n",
    "plt.show()"
   ]
  },
  {
   "cell_type": "markdown",
   "metadata": {},
   "source": [
    "- The median average price for bookings that are canceled is slightly higher compared to the not canceled bookings. This suggests that customers are more likely to cancel reservations when they perceive the price as being on the higher end."
   ]
  },
  {
   "cell_type": "code",
   "execution_count": 17,
   "metadata": {},
   "outputs": [
    {
     "data": {
      "image/png": "[encoded data removed]",
      "text/plain": [
       "<Figure size 864x504 with 1 Axes>"
      ]
     },
     "metadata": {
      "needs_background": "light"
     },
     "output_type": "display_data"
    }
   ],
   "source": [
    "# Visualizing the relationship between market segment type and booking cancellation\n",
    "plt.figure(figsize=(12, 7))\n",
    "sns.countplot(data=data, x=\"booking_status\", hue=\"market_segment_type\", palette=\"Set2\")\n",
    "plt.xticks(fontsize=12)\n",
    "plt.yticks(fontsize=12)\n",
    "plt.xlabel('Booking Status', fontsize=15)\n",
    "plt.ylabel('Count', fontsize=15)\n",
    "plt.title('Distribution of Market Segment Types by Booking Status', fontsize=18)\n",
    "plt.legend(title='Market Segment Type', title_fontsize='13', fontsize='11')\n",
    "plt.grid(True, linestyle='--', alpha=0.7)\n",
    "plt.show()"
   ]
  },
  {
   "cell_type": "markdown",
   "metadata": {},
   "source": [
    "- Online bookings are more likely to cancel compared to offline bookings, and offline bookings have a lower cancellation rate.\n",
    "- Of all cancellations, 73.47% are from online bookings and 26.53% of cancellations are from offline bookings."
   ]
  },
  {
   "cell_type": "code",
   "execution_count": 18,
   "metadata": {},
   "outputs": [],
   "source": [
    "# Convert the 'arrival_date' column to datetime type\n",
    "data['arrival_date'] = pd.to_datetime(data['arrival_date'])\n",
    "\n",
    "# Extract month from 'arrival_date'\n",
    "data['arrival_month'] = data['arrival_date'].dt.month"
   ]
  },
  {
   "cell_type": "code",
   "execution_count": 19,
   "metadata": {},
   "outputs": [
    {
     "data": {
      "text/html": [
       "<div>\n",
       "<style scoped>\n",
       "    .dataframe tbody tr th:only-of-type {\n",
       "        vertical-align: middle;\n",
       "    }\n",
       "\n",
       "    .dataframe tbody tr th {\n",
       "        vertical-align: top;\n",
       "    }\n",
       "\n",
       "    .dataframe thead th {\n",
       "        text-align: right;\n",
       "    }\n",
       "</style>\n",
       "<table border=\"1\" class=\"dataframe\">\n",
       "  <thead>\n",
       "    <tr style=\"text-align: right;\">\n",
       "      <th></th>\n",
       "      <th>lead_time</th>\n",
       "      <th>market_segment_type</th>\n",
       "      <th>no_of_special_requests</th>\n",
       "      <th>avg_price_per_room</th>\n",
       "      <th>no_of_adults</th>\n",
       "      <th>no_of_weekend_nights</th>\n",
       "      <th>arrival_date</th>\n",
       "      <th>required_car_parking_space</th>\n",
       "      <th>no_of_week_nights</th>\n",
       "      <th>booking_status</th>\n",
       "      <th>arrival_month</th>\n",
       "    </tr>\n",
       "  </thead>\n",
       "  <tbody>\n",
       "    <tr>\n",
       "      <th>0</th>\n",
       "      <td>224</td>\n",
       "      <td>Offline</td>\n",
       "      <td>0</td>\n",
       "      <td>65.00</td>\n",
       "      <td>2</td>\n",
       "      <td>1</td>\n",
       "      <td>2017-10-02</td>\n",
       "      <td>0</td>\n",
       "      <td>2</td>\n",
       "      <td>Not_Canceled</td>\n",
       "      <td>10</td>\n",
       "    </tr>\n",
       "    <tr>\n",
       "      <th>1</th>\n",
       "      <td>5</td>\n",
       "      <td>Online</td>\n",
       "      <td>1</td>\n",
       "      <td>106.68</td>\n",
       "      <td>2</td>\n",
       "      <td>2</td>\n",
       "      <td>2018-11-06</td>\n",
       "      <td>0</td>\n",
       "      <td>3</td>\n",
       "      <td>Not_Canceled</td>\n",
       "      <td>11</td>\n",
       "    </tr>\n",
       "    <tr>\n",
       "      <th>2</th>\n",
       "      <td>1</td>\n",
       "      <td>Online</td>\n",
       "      <td>0</td>\n",
       "      <td>60.00</td>\n",
       "      <td>1</td>\n",
       "      <td>2</td>\n",
       "      <td>2018-02-28</td>\n",
       "      <td>0</td>\n",
       "      <td>1</td>\n",
       "      <td>Canceled</td>\n",
       "      <td>2</td>\n",
       "    </tr>\n",
       "    <tr>\n",
       "      <th>3</th>\n",
       "      <td>211</td>\n",
       "      <td>Online</td>\n",
       "      <td>0</td>\n",
       "      <td>100.00</td>\n",
       "      <td>2</td>\n",
       "      <td>0</td>\n",
       "      <td>2018-05-20</td>\n",
       "      <td>0</td>\n",
       "      <td>2</td>\n",
       "      <td>Canceled</td>\n",
       "      <td>5</td>\n",
       "    </tr>\n",
       "    <tr>\n",
       "      <th>4</th>\n",
       "      <td>48</td>\n",
       "      <td>Online</td>\n",
       "      <td>0</td>\n",
       "      <td>94.50</td>\n",
       "      <td>2</td>\n",
       "      <td>1</td>\n",
       "      <td>2018-04-11</td>\n",
       "      <td>0</td>\n",
       "      <td>1</td>\n",
       "      <td>Canceled</td>\n",
       "      <td>4</td>\n",
       "    </tr>\n",
       "  </tbody>\n",
       "</table>\n",
       "</div>"
      ],
      "text/plain": [
       "   lead_time market_segment_type  no_of_special_requests  avg_price_per_room  \\\n",
       "0        224             Offline                       0               65.00   \n",
       "1          5              Online                       1              106.68   \n",
       "2          1              Online                       0               60.00   \n",
       "3        211              Online                       0              100.00   \n",
       "4         48              Online                       0               94.50   \n",
       "\n",
       "   no_of_adults  no_of_weekend_nights arrival_date  \\\n",
       "0             2                     1   2017-10-02   \n",
       "1             2                     2   2018-11-06   \n",
       "2             1                     2   2018-02-28   \n",
       "3             2                     0   2018-05-20   \n",
       "4             2                     1   2018-04-11   \n",
       "\n",
       "   required_car_parking_space  no_of_week_nights booking_status  arrival_month  \n",
       "0                           0                  2   Not_Canceled             10  \n",
       "1                           0                  3   Not_Canceled             11  \n",
       "2                           0                  1       Canceled              2  \n",
       "3                           0                  2       Canceled              5  \n",
       "4                           0                  1       Canceled              4  "
      ]
     },
     "execution_count": 19,
     "metadata": {},
     "output_type": "execute_result"
    }
   ],
   "source": [
    "data.head()"
   ]
  },
  {
   "cell_type": "code",
   "execution_count": 20,
   "metadata": {},
   "outputs": [
    {
     "data": {
      "text/html": [
       "<div>\n",
       "<style scoped>\n",
       "    .dataframe tbody tr th:only-of-type {\n",
       "        vertical-align: middle;\n",
       "    }\n",
       "\n",
       "    .dataframe tbody tr th {\n",
       "        vertical-align: top;\n",
       "    }\n",
       "\n",
       "    .dataframe thead th {\n",
       "        text-align: right;\n",
       "    }\n",
       "</style>\n",
       "<table border=\"1\" class=\"dataframe\">\n",
       "  <thead>\n",
       "    <tr style=\"text-align: right;\">\n",
       "      <th>booking_status</th>\n",
       "      <th>Canceled</th>\n",
       "      <th>Not_Canceled</th>\n",
       "    </tr>\n",
       "    <tr>\n",
       "      <th>arrival_month</th>\n",
       "      <th></th>\n",
       "      <th></th>\n",
       "    </tr>\n",
       "  </thead>\n",
       "  <tbody>\n",
       "    <tr>\n",
       "      <th>10</th>\n",
       "      <td>1880</td>\n",
       "      <td>3437</td>\n",
       "    </tr>\n",
       "    <tr>\n",
       "      <th>9</th>\n",
       "      <td>1538</td>\n",
       "      <td>3073</td>\n",
       "    </tr>\n",
       "    <tr>\n",
       "      <th>8</th>\n",
       "      <td>1488</td>\n",
       "      <td>2325</td>\n",
       "    </tr>\n",
       "    <tr>\n",
       "      <th>7</th>\n",
       "      <td>1314</td>\n",
       "      <td>1606</td>\n",
       "    </tr>\n",
       "    <tr>\n",
       "      <th>6</th>\n",
       "      <td>1291</td>\n",
       "      <td>1912</td>\n",
       "    </tr>\n",
       "    <tr>\n",
       "      <th>4</th>\n",
       "      <td>995</td>\n",
       "      <td>1741</td>\n",
       "    </tr>\n",
       "    <tr>\n",
       "      <th>5</th>\n",
       "      <td>948</td>\n",
       "      <td>1650</td>\n",
       "    </tr>\n",
       "    <tr>\n",
       "      <th>11</th>\n",
       "      <td>875</td>\n",
       "      <td>2105</td>\n",
       "    </tr>\n",
       "    <tr>\n",
       "      <th>3</th>\n",
       "      <td>700</td>\n",
       "      <td>1658</td>\n",
       "    </tr>\n",
       "    <tr>\n",
       "      <th>2</th>\n",
       "      <td>430</td>\n",
       "      <td>1274</td>\n",
       "    </tr>\n",
       "    <tr>\n",
       "      <th>12</th>\n",
       "      <td>402</td>\n",
       "      <td>2619</td>\n",
       "    </tr>\n",
       "    <tr>\n",
       "      <th>1</th>\n",
       "      <td>24</td>\n",
       "      <td>990</td>\n",
       "    </tr>\n",
       "  </tbody>\n",
       "</table>\n",
       "</div>"
      ],
      "text/plain": [
       "booking_status  Canceled  Not_Canceled\n",
       "arrival_month                         \n",
       "10                  1880          3437\n",
       "9                   1538          3073\n",
       "8                   1488          2325\n",
       "7                   1314          1606\n",
       "6                   1291          1912\n",
       "4                    995          1741\n",
       "5                    948          1650\n",
       "11                   875          2105\n",
       "3                    700          1658\n",
       "2                    430          1274\n",
       "12                   402          2619\n",
       "1                     24           990"
      ]
     },
     "execution_count": 20,
     "metadata": {},
     "output_type": "execute_result"
    }
   ],
   "source": [
    "# Count of bookings for each month and booking status\n",
    "monthly_bookings = data.groupby(['arrival_month', 'booking_status']).size().unstack(fill_value=0)\n",
    "# Sort by the number of canceled bookings\n",
    "monthly_bookings_sorted = monthly_bookings.sort_values(by='Canceled', ascending=False)\n",
    "monthly_bookings_sorted"
   ]
  },
  {
   "cell_type": "markdown",
   "metadata": {},
   "source": [
    "- **October** has the highest number of canceled bookings (1880) compared to other months. It also has a relatively high number of not canceled bookings (3437), making it a month with significant booking activity.\n",
    "- **January** shows the lowest cancellation count, suggesting it might be a quieter month for bookings, or that bookings in January are less likely to be canceled.\n",
    "- **Summer and Autumn**: Both show higher numbers of cancellations compared to winter months, possibly due to increased travel plans and uncertainties during these periods.\n",
    "\n",
    "More analysis:"
   ]
  },
  {
   "cell_type": "code",
   "execution_count": 21,
   "metadata": {},
   "outputs": [
    {
     "data": {
      "text/html": [
       "<div>\n",
       "<style scoped>\n",
       "    .dataframe tbody tr th:only-of-type {\n",
       "        vertical-align: middle;\n",
       "    }\n",
       "\n",
       "    .dataframe tbody tr th {\n",
       "        vertical-align: top;\n",
       "    }\n",
       "\n",
       "    .dataframe thead th {\n",
       "        text-align: right;\n",
       "    }\n",
       "</style>\n",
       "<table border=\"1\" class=\"dataframe\">\n",
       "  <thead>\n",
       "    <tr style=\"text-align: right;\">\n",
       "      <th>booking_status</th>\n",
       "      <th>Canceled</th>\n",
       "      <th>Not_Canceled</th>\n",
       "      <th>Cancellation_Rate</th>\n",
       "    </tr>\n",
       "    <tr>\n",
       "      <th>arrival_month</th>\n",
       "      <th></th>\n",
       "      <th></th>\n",
       "      <th></th>\n",
       "    </tr>\n",
       "  </thead>\n",
       "  <tbody>\n",
       "    <tr>\n",
       "      <th>1</th>\n",
       "      <td>24</td>\n",
       "      <td>990</td>\n",
       "      <td>0.023669</td>\n",
       "    </tr>\n",
       "    <tr>\n",
       "      <th>2</th>\n",
       "      <td>430</td>\n",
       "      <td>1274</td>\n",
       "      <td>0.252347</td>\n",
       "    </tr>\n",
       "    <tr>\n",
       "      <th>3</th>\n",
       "      <td>700</td>\n",
       "      <td>1658</td>\n",
       "      <td>0.296862</td>\n",
       "    </tr>\n",
       "    <tr>\n",
       "      <th>4</th>\n",
       "      <td>995</td>\n",
       "      <td>1741</td>\n",
       "      <td>0.363670</td>\n",
       "    </tr>\n",
       "    <tr>\n",
       "      <th>5</th>\n",
       "      <td>948</td>\n",
       "      <td>1650</td>\n",
       "      <td>0.364896</td>\n",
       "    </tr>\n",
       "    <tr>\n",
       "      <th>6</th>\n",
       "      <td>1291</td>\n",
       "      <td>1912</td>\n",
       "      <td>0.403060</td>\n",
       "    </tr>\n",
       "    <tr>\n",
       "      <th>7</th>\n",
       "      <td>1314</td>\n",
       "      <td>1606</td>\n",
       "      <td>0.450000</td>\n",
       "    </tr>\n",
       "    <tr>\n",
       "      <th>8</th>\n",
       "      <td>1488</td>\n",
       "      <td>2325</td>\n",
       "      <td>0.390244</td>\n",
       "    </tr>\n",
       "    <tr>\n",
       "      <th>9</th>\n",
       "      <td>1538</td>\n",
       "      <td>3073</td>\n",
       "      <td>0.333550</td>\n",
       "    </tr>\n",
       "    <tr>\n",
       "      <th>10</th>\n",
       "      <td>1880</td>\n",
       "      <td>3437</td>\n",
       "      <td>0.353583</td>\n",
       "    </tr>\n",
       "    <tr>\n",
       "      <th>11</th>\n",
       "      <td>875</td>\n",
       "      <td>2105</td>\n",
       "      <td>0.293624</td>\n",
       "    </tr>\n",
       "    <tr>\n",
       "      <th>12</th>\n",
       "      <td>402</td>\n",
       "      <td>2619</td>\n",
       "      <td>0.133069</td>\n",
       "    </tr>\n",
       "  </tbody>\n",
       "</table>\n",
       "</div>"
      ],
      "text/plain": [
       "booking_status  Canceled  Not_Canceled  Cancellation_Rate\n",
       "arrival_month                                            \n",
       "1                     24           990           0.023669\n",
       "2                    430          1274           0.252347\n",
       "3                    700          1658           0.296862\n",
       "4                    995          1741           0.363670\n",
       "5                    948          1650           0.364896\n",
       "6                   1291          1912           0.403060\n",
       "7                   1314          1606           0.450000\n",
       "8                   1488          2325           0.390244\n",
       "9                   1538          3073           0.333550\n",
       "10                  1880          3437           0.353583\n",
       "11                   875          2105           0.293624\n",
       "12                   402          2619           0.133069"
      ]
     },
     "execution_count": 21,
     "metadata": {},
     "output_type": "execute_result"
    }
   ],
   "source": [
    "monthly_bookings = data.groupby(['arrival_month', 'booking_status']).size().unstack(fill_value=0)\n",
    "\n",
    "# Calculate cancellation rate\n",
    "monthly_bookings['Cancellation_Rate'] = monthly_bookings['Canceled'] / (monthly_bookings['Canceled'] + monthly_bookings['Not_Canceled'])\n",
    "\n",
    "monthly_bookings\n"
   ]
  },
  {
   "cell_type": "code",
   "execution_count": 22,
   "metadata": {},
   "outputs": [
    {
     "data": {
      "image/png": "[encoded data removed]",
      "text/plain": [
       "<Figure size 864x432 with 2 Axes>"
      ]
     },
     "metadata": {
      "needs_background": "light"
     },
     "output_type": "display_data"
    }
   ],
   "source": [
    "# Plotting\n",
    "fig, ax1 = plt.subplots(figsize=(12, 6))\n",
    "\n",
    "# Bar plot for Canceled and Not_Canceled\n",
    "monthly_bookings[['Canceled', 'Not_Canceled']].plot(kind='bar', stacked=True, ax=ax1)\n",
    "ax1.set_ylabel('Number of Bookings')\n",
    "ax1.set_xlabel('Arrival Month')\n",
    "\n",
    "# Line plot for Cancellation Rate\n",
    "ax2 = ax1.twinx()\n",
    "x = np.arange(len(monthly_bookings.index))  # the label locations\n",
    "ax2.plot(x, monthly_bookings['Cancellation_Rate'], color='green', marker='o', linestyle='-', linewidth=2)\n",
    "ax2.set_ylabel('Cancellation Rate', color='green')\n",
    "ax2.tick_params(axis='y', labelcolor='green')\n",
    "\n",
    "# Set x-axis ticks\n",
    "ax1.set_xticks(x)\n",
    "ax1.set_xticklabels(monthly_bookings.index)\n",
    "\n",
    "plt.title('Monthly Bookings and Cancellation Rate')\n",
    "plt.tight_layout()\n",
    "plt.show()"
   ]
  },
  {
   "cell_type": "markdown",
   "metadata": {},
   "source": [
    "After more analysis, **July** has the highest cancellation rate.\n",
    "\n",
    "---\n",
    "\n",
    "## **Summary**"
   ]
  },
  {
   "cell_type": "markdown",
   "metadata": {},
   "source": [
    "### **Key Insights**\n",
    "- **Lead Time**: Longer lead times correlate with higher cancellation rates.\n",
    "- **Price Sensitivity**: Higher average room prices are linked to higher cancellation rates.\n",
    "- **Market Segment**: Online bookings are more prone to cancellations than offline bookings.\n",
    "- **Seasonal Trends**: Summer and autumn months see higher cancellations, likely due to increased travel activities and uncertainties.\n",
    "\n",
    "This EDA provides a comprehensive overview of booking behaviors, cancellation trends, and market segment dynamics, offering valuable insights for optimizing booking strategies and reducing cancellation rates."
   ]
  }
 ],
 "metadata": {
  "kernelspec": {
   "display_name": "base",
   "language": "python",
   "name": "python3"
  },
  "language_info": {
   "codemirror_mode": {
    "name": "ipython",
    "version": 3
   },
   "file_extension": ".py",
   "mimetype": "text/x-python",
   "name": "python",
   "nbconvert_exporter": "python",
   "pygments_lexer": "ipython3",
   "version": "3.10.9"
  }
 },
 "nbformat": 4,
 "nbformat_minor": 2
}
