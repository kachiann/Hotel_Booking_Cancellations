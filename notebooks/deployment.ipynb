{
 "cells": [
  {
   "cell_type": "markdown",
   "metadata": {},
   "source": [
    "# **Hotel Booking Cancellation Predictor: Model Deployment**\n",
    "\n",
    "This notebook demonstrates the deployment of a machine learning model designed to predict hotel booking cancellations. By leveraging **Gradio**, an open-source library for building interactive applications, we provide a user-friendly interface for real-time predictions.\n",
    "\n",
    "---\n",
    "\n",
    "## 1. **Import libraries**"
   ]
  },
  {
   "cell_type": "code",
   "execution_count": null,
   "metadata": {},
   "outputs": [],
   "source": [
    "!pip install gradio\n"
   ]
  },
  {
   "cell_type": "code",
   "execution_count": 1,
   "metadata": {},
   "outputs": [],
   "source": [
    "# Data Analysis\n",
    "import numpy as np\n",
    "import pandas as pd\n",
    "\n",
    "# Libraries to deploy the ML model\n",
    "import os\n",
    "import joblib\n",
    "import gradio as gr\n",
    "\n",
    "\n"
   ]
  },
  {
   "cell_type": "markdown",
   "metadata": {},
   "source": [
    "## 2. **Load Model**\n",
    "We load the pre-trained cancellation prediction model, which was saved in a `.joblib` file in the `models` folder."
   ]
  },
  {
   "cell_type": "code",
   "execution_count": 4,
   "metadata": {},
   "outputs": [],
   "source": [
    "# loading the final model from the disk\n",
    "cancellation_predictor = joblib.load('../models/hotel_cancellation_prediction_model_v1_0.joblib')"
   ]
  },
  {
   "cell_type": "markdown",
   "metadata": {},
   "source": [
    "## 3. **Define Prediction Function**\n",
    "\n",
    "Here, we implement a function that takes various booking details as input and returns the likelihood of cancellation."
   ]
  },
  {
   "cell_type": "code",
   "execution_count": 5,
   "metadata": {},
   "outputs": [],
   "source": [
    "def predict_cancellation(lead_time, market_segment_type, avg_price_per_room, no_of_adults, \n",
    "                         no_of_weekend_nights, no_of_week_nights, no_of_special_requests, arrival_month, required_car_parking_space):\n",
    "\n",
    "    # Dictionary of inputs\n",
    "    input_data = {\n",
    "        'lead_time': lead_time,\n",
    "        'market_segment_type': 1 if market_segment_type == 'Online' else 0,\n",
    "        'no_of_special_requests': no_of_special_requests,\n",
    "        'avg_price_per_room': avg_price_per_room,\n",
    "        'no_of_adults': no_of_adults,\n",
    "        'no_of_weekend_nights': no_of_weekend_nights,\n",
    "        'required_car_parking_space': 1.0 if required_car_parking_space == \"Yes\" else 0.0,\n",
    "        'no_of_week_nights': no_of_week_nights,\n",
    "        'arrival_month': arrival_month,\n",
    "        \n",
    "    }\n",
    "\n",
    "    # Create a dataframe using the dictionary of inputs\n",
    "    data_point = pd.DataFrame([input_data])\n",
    "\n",
    "    # predicting the output and probability of the output\n",
    "    prediction = cancellation_predictor.predict(data_point).tolist()\n",
    "    prediction_prob = np.round(100*cancellation_predictor.predict_proba(data_point)[0][0], 2) if prediction == 1 else np.round(100*cancellation_predictor.predict_proba(data_point)[0][1], 2)\n",
    "\n",
    "    # returning the final output\n",
    "    return (\"Yes\", str(prediction_prob)+\"%\") if prediction[0] == 1 else (\"No\", str(prediction_prob)+\"%\")"
   ]
  },
  {
   "cell_type": "markdown",
   "metadata": {},
   "source": [
    "## 4. **Create Interface** \n",
    "\n",
    "Build an interactive **Gradio** interface to collect user inputs and display prediction results.\n",
    "\n",
    "- **Gradio Interface**: The Gradio interface is designed to be intuitive, with input fields for all necessary parameters and output fields for displaying the prediction results."
   ]
  },
  {
   "cell_type": "code",
   "execution_count": 6,
   "metadata": {},
   "outputs": [],
   "source": [
    "# Create the deployment input interface\n",
    "model_inputs = [\n",
    "    gr.Number(label=\"Lead Time (in days)\"),\n",
    "    gr.Dropdown(label=\"Market Segment Type\", choices=[\"Online\", \"Offline\"]),\n",
    "    gr.Number(label=\"Average Price per Room\"),\n",
    "    gr.Number(label=\"Number of Adults\"),\n",
    "    gr.Number(label=\"Number of Weekend Nights\"),\n",
    "    gr.Number(label=\"Number of Week Nights\"),\n",
    "    gr.Number(label=\"Number of Special Requests\"),\n",
    "    gr.Dropdown(label=\"Arrival Month\", choices=np.arange(1,13,1).tolist()),\n",
    "    gr.Dropdown(label=\"Required Car Parking Space\", choices=[\"Yes\", \"No\"])\n",
    "]\n",
    "\n",
    "# Create the deployment output interface\n",
    "model_outputs = [\n",
    "    gr.Textbox(label=\"Will the booking be cancelled?\"),\n",
    "    gr.Textbox(label=\"Chances of Cancellation\")\n",
    "]"
   ]
  },
  {
   "cell_type": "code",
   "execution_count": 8,
   "metadata": {},
   "outputs": [],
   "source": [
    "# Define the structure of the deployment interface and how the components will interact\n",
    "demo = gr.Interface(\n",
    "    fn = predict_cancellation,\n",
    "    inputs = model_inputs,\n",
    "    outputs = model_outputs,\n",
    "    allow_flagging='never',\n",
    "    title = \"Hotel Booking Cancellation Predictor\",\n",
    "    description = \"This interface will predict whether a given hotel booking is likely to be cancelled based on the details of the booking.\",\n",
    ")"
   ]
  },
  {
   "cell_type": "markdown",
   "metadata": {},
   "source": [
    "## 5. **Deploy Model**\n",
    "Now, we launch the Gradio app for users to interact with the model and view predictions.\n",
    "\n",
    "Users will be able to input details such as lead time, market segment, and other booking attributes into the Gradio interface. The model will then predict whether the booking is likely to be canceled and provide the probability of cancellation."
   ]
  },
  {
   "cell_type": "code",
   "execution_count": 9,
   "metadata": {},
   "outputs": [
    {
     "name": "stdout",
     "output_type": "stream",
     "text": [
      "Running on local URL:  http://127.0.0.1:7860\n",
      "Running on public URL: https://93fe45a8b022c869ff.gradio.live\n",
      "\n",
      "This share link expires in 72 hours. For free permanent hosting and GPU upgrades, run `gradio deploy` from Terminal to deploy to Spaces (https://huggingface.co/spaces)\n",
      "Keyboard interruption in main thread... closing server.\n",
      "Killing tunnel 127.0.0.1:7860 <> https://93fe45a8b022c869ff.gradio.live\n"
     ]
    },
    {
     "data": {
      "text/plain": []
     },
     "execution_count": 9,
     "metadata": {},
     "output_type": "execute_result"
    }
   ],
   "source": [
    "# Deploy the model\n",
    "demo.launch(inline=False, share=True, debug=True)"
   ]
  },
  {
   "cell_type": "code",
   "execution_count": 10,
   "metadata": {},
   "outputs": [
    {
     "name": "stdout",
     "output_type": "stream",
     "text": [
      "Closing server running on port: 7860\n"
     ]
    }
   ],
   "source": [
    "# Shut down the deployed model\n",
    "demo.close()"
   ]
  }
 ],
 "metadata": {
  "kernelspec": {
   "display_name": "base",
   "language": "python",
   "name": "python3"
  },
  "language_info": {
   "codemirror_mode": {
    "name": "ipython",
    "version": 3
   },
   "file_extension": ".py",
   "mimetype": "text/x-python",
   "name": "python",
   "nbconvert_exporter": "python",
   "pygments_lexer": "ipython3",
   "version": "3.10.9"
  }
 },
 "nbformat": 4,
 "nbformat_minor": 2
}
