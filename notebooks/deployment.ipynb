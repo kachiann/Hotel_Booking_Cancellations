{
 "cells": [
  {
   "cell_type": "markdown",
   "metadata": {},
   "source": [
    "# **Hotel Booking Cancellation Predictor: Model Deployment**\n",
    "\n",
    "This notebook demonstrates the deployment of a machine learning model designed to predict hotel booking cancellations. By leveraging **Gradio**, an open-source library for building interactive applications, we provide a user-friendly interface for real-time predictions.\n",
    "\n",
    "---\n",
    "\n",
    "## 1. **Import libraries**"
   ]
  },
  {
   "cell_type": "code",
   "execution_count": 11,
   "metadata": {},
   "outputs": [
    {
     "name": "stdout",
     "output_type": "stream",
     "text": [
      "Requirement already satisfied: gradio in /Users/kachiemenike/anaconda3/lib/python3.10/site-packages (4.38.1)\n",
      "Requirement already satisfied: aiofiles<24.0,>=22.0 in /Users/kachiemenike/anaconda3/lib/python3.10/site-packages (from gradio) (23.2.1)\n",
      "Requirement already satisfied: altair<6.0,>=5.0 in /Users/kachiemenike/anaconda3/lib/python3.10/site-packages (from gradio) (5.2.0)\n",
      "Requirement already satisfied: fastapi in /Users/kachiemenike/anaconda3/lib/python3.10/site-packages (from gradio) (0.110.0)\n",
      "Requirement already satisfied: ffmpy in /Users/kachiemenike/anaconda3/lib/python3.10/site-packages (from gradio) (0.3.2)\n",
      "Requirement already satisfied: gradio-client==1.1.0 in /Users/kachiemenike/anaconda3/lib/python3.10/site-packages (from gradio) (1.1.0)\n",
      "Requirement already satisfied: httpx>=0.24.1 in /Users/kachiemenike/anaconda3/lib/python3.10/site-packages (from gradio) (0.27.0)\n",
      "Requirement already satisfied: huggingface-hub>=0.19.3 in /Users/kachiemenike/anaconda3/lib/python3.10/site-packages (from gradio) (0.23.5)\n",
      "Requirement already satisfied: importlib-resources<7.0,>=1.3 in /Users/kachiemenike/anaconda3/lib/python3.10/site-packages (from gradio) (6.1.3)\n",
      "Requirement already satisfied: jinja2<4.0 in /Users/kachiemenike/anaconda3/lib/python3.10/site-packages (from gradio) (3.1.2)\n",
      "Requirement already satisfied: markupsafe~=2.0 in /Users/kachiemenike/anaconda3/lib/python3.10/site-packages (from gradio) (2.1.1)\n",
      "Requirement already satisfied: matplotlib~=3.0 in /Users/kachiemenike/anaconda3/lib/python3.10/site-packages (from gradio) (3.7.0)\n",
      "Requirement already satisfied: numpy<3.0,>=1.0 in /Users/kachiemenike/anaconda3/lib/python3.10/site-packages (from gradio) (1.23.5)\n",
      "Requirement already satisfied: orjson~=3.0 in /Users/kachiemenike/anaconda3/lib/python3.10/site-packages (from gradio) (3.9.15)\n",
      "Requirement already satisfied: packaging in /Users/kachiemenike/anaconda3/lib/python3.10/site-packages (from gradio) (23.2)\n",
      "Requirement already satisfied: pandas<3.0,>=1.0 in /Users/kachiemenike/anaconda3/lib/python3.10/site-packages (from gradio) (2.0.3)\n",
      "Requirement already satisfied: pillow<11.0,>=8.0 in /Users/kachiemenike/anaconda3/lib/python3.10/site-packages (from gradio) (9.4.0)\n",
      "Requirement already satisfied: pydantic>=2.0 in /Users/kachiemenike/anaconda3/lib/python3.10/site-packages (from gradio) (2.8.2)\n",
      "Requirement already satisfied: pydub in /Users/kachiemenike/anaconda3/lib/python3.10/site-packages (from gradio) (0.25.1)\n",
      "Requirement already satisfied: python-multipart>=0.0.9 in /Users/kachiemenike/anaconda3/lib/python3.10/site-packages (from gradio) (0.0.9)\n",
      "Requirement already satisfied: pyyaml<7.0,>=5.0 in /Users/kachiemenike/anaconda3/lib/python3.10/site-packages (from gradio) (6.0)\n",
      "Requirement already satisfied: ruff>=0.2.2 in /Users/kachiemenike/anaconda3/lib/python3.10/site-packages (from gradio) (0.5.2)\n",
      "Requirement already satisfied: semantic-version~=2.0 in /Users/kachiemenike/anaconda3/lib/python3.10/site-packages (from gradio) (2.10.0)\n",
      "Requirement already satisfied: tomlkit==0.12.0 in /Users/kachiemenike/anaconda3/lib/python3.10/site-packages (from gradio) (0.12.0)\n",
      "Requirement already satisfied: typer<1.0,>=0.12 in /Users/kachiemenike/anaconda3/lib/python3.10/site-packages (from gradio) (0.12.3)\n",
      "Requirement already satisfied: typing-extensions~=4.0 in /Users/kachiemenike/anaconda3/lib/python3.10/site-packages (from gradio) (4.10.0)\n",
      "Collecting urllib3~=2.0 (from gradio)\n",
      "  Using cached urllib3-2.2.2-py3-none-any.whl.metadata (6.4 kB)\n",
      "Requirement already satisfied: uvicorn>=0.14.0 in /Users/kachiemenike/anaconda3/lib/python3.10/site-packages (from gradio) (0.23.2)\n",
      "Requirement already satisfied: fsspec in /Users/kachiemenike/anaconda3/lib/python3.10/site-packages (from gradio-client==1.1.0->gradio) (2024.6.1)\n",
      "Requirement already satisfied: websockets<12.0,>=10.0 in /Users/kachiemenike/anaconda3/lib/python3.10/site-packages (from gradio-client==1.1.0->gradio) (11.0.3)\n",
      "Requirement already satisfied: jsonschema>=3.0 in /Users/kachiemenike/anaconda3/lib/python3.10/site-packages (from altair<6.0,>=5.0->gradio) (4.21.1)\n",
      "Requirement already satisfied: toolz in /Users/kachiemenike/anaconda3/lib/python3.10/site-packages (from altair<6.0,>=5.0->gradio) (0.12.0)\n",
      "Requirement already satisfied: anyio in /Users/kachiemenike/anaconda3/lib/python3.10/site-packages (from httpx>=0.24.1->gradio) (3.7.1)\n",
      "Requirement already satisfied: certifi in /Users/kachiemenike/anaconda3/lib/python3.10/site-packages (from httpx>=0.24.1->gradio) (2023.5.7)\n",
      "Requirement already satisfied: httpcore==1.* in /Users/kachiemenike/anaconda3/lib/python3.10/site-packages (from httpx>=0.24.1->gradio) (1.0.5)\n",
      "Requirement already satisfied: idna in /Users/kachiemenike/anaconda3/lib/python3.10/site-packages (from httpx>=0.24.1->gradio) (3.4)\n",
      "Requirement already satisfied: sniffio in /Users/kachiemenike/anaconda3/lib/python3.10/site-packages (from httpx>=0.24.1->gradio) (1.3.1)\n",
      "Requirement already satisfied: h11<0.15,>=0.13 in /Users/kachiemenike/anaconda3/lib/python3.10/site-packages (from httpcore==1.*->httpx>=0.24.1->gradio) (0.14.0)\n",
      "Requirement already satisfied: filelock in /Users/kachiemenike/anaconda3/lib/python3.10/site-packages (from huggingface-hub>=0.19.3->gradio) (3.14.0)\n",
      "Requirement already satisfied: requests in /Users/kachiemenike/anaconda3/lib/python3.10/site-packages (from huggingface-hub>=0.19.3->gradio) (2.31.0)\n",
      "Requirement already satisfied: tqdm>=4.42.1 in /Users/kachiemenike/anaconda3/lib/python3.10/site-packages (from huggingface-hub>=0.19.3->gradio) (4.64.1)\n",
      "Requirement already satisfied: contourpy>=1.0.1 in /Users/kachiemenike/anaconda3/lib/python3.10/site-packages (from matplotlib~=3.0->gradio) (1.0.5)\n",
      "Requirement already satisfied: cycler>=0.10 in /Users/kachiemenike/anaconda3/lib/python3.10/site-packages (from matplotlib~=3.0->gradio) (0.11.0)\n",
      "Requirement already satisfied: fonttools>=4.22.0 in /Users/kachiemenike/anaconda3/lib/python3.10/site-packages (from matplotlib~=3.0->gradio) (4.25.0)\n",
      "Requirement already satisfied: kiwisolver>=1.0.1 in /Users/kachiemenike/anaconda3/lib/python3.10/site-packages (from matplotlib~=3.0->gradio) (1.4.4)\n",
      "Requirement already satisfied: pyparsing>=2.3.1 in /Users/kachiemenike/anaconda3/lib/python3.10/site-packages (from matplotlib~=3.0->gradio) (3.0.9)\n",
      "Requirement already satisfied: python-dateutil>=2.7 in /Users/kachiemenike/anaconda3/lib/python3.10/site-packages (from matplotlib~=3.0->gradio) (2.8.2)\n",
      "Requirement already satisfied: pytz>=2020.1 in /Users/kachiemenike/anaconda3/lib/python3.10/site-packages (from pandas<3.0,>=1.0->gradio) (2022.7)\n",
      "Requirement already satisfied: tzdata>=2022.1 in /Users/kachiemenike/anaconda3/lib/python3.10/site-packages (from pandas<3.0,>=1.0->gradio) (2023.3)\n",
      "Requirement already satisfied: annotated-types>=0.4.0 in /Users/kachiemenike/anaconda3/lib/python3.10/site-packages (from pydantic>=2.0->gradio) (0.5.0)\n",
      "Requirement already satisfied: pydantic-core==2.20.1 in /Users/kachiemenike/anaconda3/lib/python3.10/site-packages (from pydantic>=2.0->gradio) (2.20.1)\n",
      "Requirement already satisfied: click>=8.0.0 in /Users/kachiemenike/anaconda3/lib/python3.10/site-packages (from typer<1.0,>=0.12->gradio) (8.0.4)\n",
      "Requirement already satisfied: shellingham>=1.3.0 in /Users/kachiemenike/anaconda3/lib/python3.10/site-packages (from typer<1.0,>=0.12->gradio) (1.5.4)\n",
      "Requirement already satisfied: rich>=10.11.0 in /Users/kachiemenike/anaconda3/lib/python3.10/site-packages (from typer<1.0,>=0.12->gradio) (13.5.2)\n",
      "Requirement already satisfied: starlette<0.37.0,>=0.36.3 in /Users/kachiemenike/anaconda3/lib/python3.10/site-packages (from fastapi->gradio) (0.36.3)\n",
      "Requirement already satisfied: attrs>=22.2.0 in /Users/kachiemenike/anaconda3/lib/python3.10/site-packages (from jsonschema>=3.0->altair<6.0,>=5.0->gradio) (23.2.0)\n",
      "Requirement already satisfied: jsonschema-specifications>=2023.03.6 in /Users/kachiemenike/anaconda3/lib/python3.10/site-packages (from jsonschema>=3.0->altair<6.0,>=5.0->gradio) (2023.12.1)\n",
      "Requirement already satisfied: referencing>=0.28.4 in /Users/kachiemenike/anaconda3/lib/python3.10/site-packages (from jsonschema>=3.0->altair<6.0,>=5.0->gradio) (0.33.0)\n",
      "Requirement already satisfied: rpds-py>=0.7.1 in /Users/kachiemenike/anaconda3/lib/python3.10/site-packages (from jsonschema>=3.0->altair<6.0,>=5.0->gradio) (0.18.0)\n",
      "Requirement already satisfied: six>=1.5 in /Users/kachiemenike/anaconda3/lib/python3.10/site-packages (from python-dateutil>=2.7->matplotlib~=3.0->gradio) (1.16.0)\n",
      "Requirement already satisfied: markdown-it-py>=2.2.0 in /Users/kachiemenike/anaconda3/lib/python3.10/site-packages (from rich>=10.11.0->typer<1.0,>=0.12->gradio) (3.0.0)\n",
      "Requirement already satisfied: pygments<3.0.0,>=2.13.0 in /Users/kachiemenike/anaconda3/lib/python3.10/site-packages (from rich>=10.11.0->typer<1.0,>=0.12->gradio) (2.16.1)\n",
      "Requirement already satisfied: exceptiongroup in /Users/kachiemenike/anaconda3/lib/python3.10/site-packages (from anyio->httpx>=0.24.1->gradio) (1.2.2)\n",
      "Requirement already satisfied: charset-normalizer<4,>=2 in /Users/kachiemenike/anaconda3/lib/python3.10/site-packages (from requests->huggingface-hub>=0.19.3->gradio) (2.0.4)\n",
      "Requirement already satisfied: mdurl~=0.1 in /Users/kachiemenike/anaconda3/lib/python3.10/site-packages (from markdown-it-py>=2.2.0->rich>=10.11.0->typer<1.0,>=0.12->gradio) (0.1.2)\n",
      "Using cached urllib3-2.2.2-py3-none-any.whl (121 kB)\n",
      "Installing collected packages: urllib3\n",
      "  Attempting uninstall: urllib3\n",
      "    Found existing installation: urllib3 1.26.19\n",
      "    Uninstalling urllib3-1.26.19:\n",
      "      Successfully uninstalled urllib3-1.26.19\n",
      "\u001b[31mERROR: pip's dependency resolver does not currently take into account all the packages that are installed. This behaviour is the source of the following dependency conflicts.\n",
      "distributed 2022.7.0 requires tornado<6.2,>=6.0.3, but you have tornado 6.4 which is incompatible.\n",
      "google-auth 2.22.0 requires urllib3<2.0, but you have urllib3 2.2.2 which is incompatible.\n",
      "spacy 3.6.1 requires typer<0.10.0,>=0.3.0, but you have typer 0.12.3 which is incompatible.\u001b[0m\u001b[31m\n",
      "\u001b[0mSuccessfully installed urllib3-2.2.2\n"
     ]
    }
   ],
   "source": [
    "!pip install gradio\n"
   ]
  },
  {
   "cell_type": "code",
   "execution_count": 1,
   "metadata": {},
   "outputs": [],
   "source": [
    "# Data Analysis\n",
    "import numpy as np\n",
    "import pandas as pd\n",
    "\n",
    "# Libraries to deploy the ML model\n",
    "import os\n",
    "import joblib\n",
    "import gradio as gr\n",
    "\n",
    "\n"
   ]
  },
  {
   "cell_type": "markdown",
   "metadata": {},
   "source": [
    "## 2. **Load Model**\n",
    "We load the pre-trained cancellation prediction model, which was saved in a `.joblib` file in the `models` folder."
   ]
  },
  {
   "cell_type": "code",
   "execution_count": 4,
   "metadata": {},
   "outputs": [],
   "source": [
    "# loading the final model from the disk\n",
    "cancellation_predictor = joblib.load('../models/hotel_cancellation_prediction_model_v1_0.joblib')"
   ]
  },
  {
   "cell_type": "markdown",
   "metadata": {},
   "source": [
    "## 3. **Define Prediction Function**\n",
    "\n",
    "Here, we implement a function that takes various booking details as input and returns the likelihood of cancellation."
   ]
  },
  {
   "cell_type": "code",
   "execution_count": 5,
   "metadata": {},
   "outputs": [],
   "source": [
    "def predict_cancellation(lead_time, market_segment_type, avg_price_per_room, no_of_adults, \n",
    "                         no_of_weekend_nights, no_of_week_nights, no_of_special_requests, arrival_month, required_car_parking_space):\n",
    "\n",
    "    # Dictionary of inputs\n",
    "    input_data = {\n",
    "        'lead_time': lead_time,\n",
    "        'market_segment_type': 1 if market_segment_type == 'Online' else 0,\n",
    "        'no_of_special_requests': no_of_special_requests,\n",
    "        'avg_price_per_room': avg_price_per_room,\n",
    "        'no_of_adults': no_of_adults,\n",
    "        'no_of_weekend_nights': no_of_weekend_nights,\n",
    "        'required_car_parking_space': 1.0 if required_car_parking_space == \"Yes\" else 0.0,\n",
    "        'no_of_week_nights': no_of_week_nights,\n",
    "        'arrival_month': arrival_month,\n",
    "        \n",
    "    }\n",
    "\n",
    "    # Create a dataframe using the dictionary of inputs\n",
    "    data_point = pd.DataFrame([input_data])\n",
    "\n",
    "    # predicting the output and probability of the output\n",
    "    prediction = cancellation_predictor.predict(data_point).tolist()\n",
    "    prediction_prob = np.round(100*cancellation_predictor.predict_proba(data_point)[0][0], 2) if prediction == 1 else np.round(100*cancellation_predictor.predict_proba(data_point)[0][1], 2)\n",
    "\n",
    "    # returning the final output\n",
    "    return (\"Yes\", str(prediction_prob)+\"%\") if prediction[0] == 1 else (\"No\", str(prediction_prob)+\"%\")"
   ]
  },
  {
   "cell_type": "markdown",
   "metadata": {},
   "source": [
    "## 4. **Create Interface** \n",
    "\n",
    "Build an interactive **Gradio** interface to collect user inputs and display prediction results.\n",
    "\n",
    "- **Gradio Interface**: The Gradio interface is designed to be intuitive, with input fields for all necessary parameters and output fields for displaying the prediction results."
   ]
  },
  {
   "cell_type": "code",
   "execution_count": 6,
   "metadata": {},
   "outputs": [],
   "source": [
    "# Create the deployment input interface\n",
    "model_inputs = [\n",
    "    gr.Number(label=\"Lead Time (in days)\"),\n",
    "    gr.Dropdown(label=\"Market Segment Type\", choices=[\"Online\", \"Offline\"]),\n",
    "    gr.Number(label=\"Average Price per Room\"),\n",
    "    gr.Number(label=\"Number of Adults\"),\n",
    "    gr.Number(label=\"Number of Weekend Nights\"),\n",
    "    gr.Number(label=\"Number of Week Nights\"),\n",
    "    gr.Number(label=\"Number of Special Requests\"),\n",
    "    gr.Dropdown(label=\"Arrival Month\", choices=np.arange(1,13,1).tolist()),\n",
    "    gr.Dropdown(label=\"Required Car Parking Space\", choices=[\"Yes\", \"No\"])\n",
    "]\n",
    "\n",
    "# Create the deployment output interface\n",
    "model_outputs = [\n",
    "    gr.Textbox(label=\"Will the booking be cancelled?\"),\n",
    "    gr.Textbox(label=\"Chances of Cancellation\")\n",
    "]"
   ]
  },
  {
   "cell_type": "code",
   "execution_count": 8,
   "metadata": {},
   "outputs": [],
   "source": [
    "# Define the structure of the deployment interface and how the components will interact\n",
    "demo = gr.Interface(\n",
    "    fn = predict_cancellation,\n",
    "    inputs = model_inputs,\n",
    "    outputs = model_outputs,\n",
    "    allow_flagging='never',\n",
    "    title = \"Hotel Booking Cancellation Predictor\",\n",
    "    description = \"This interface will predict whether a given hotel booking is likely to be cancelled based on the details of the booking.\",\n",
    ")"
   ]
  },
  {
   "cell_type": "markdown",
   "metadata": {},
   "source": [
    "## 5. **Deploy Model**\n",
    "Now, we launch the Gradio app for users to interact with the model and view predictions.\n",
    "\n",
    "Users will be able to input details such as lead time, market segment, and other booking attributes into the Gradio interface. The model will then predict whether the booking is likely to be canceled and provide the probability of cancellation."
   ]
  },
  {
   "cell_type": "code",
   "execution_count": 9,
   "metadata": {},
   "outputs": [
    {
     "name": "stdout",
     "output_type": "stream",
     "text": [
      "Running on local URL:  http://127.0.0.1:7860\n",
      "Running on public URL: https://93fe45a8b022c869ff.gradio.live\n",
      "\n",
      "This share link expires in 72 hours. For free permanent hosting and GPU upgrades, run `gradio deploy` from Terminal to deploy to Spaces (https://huggingface.co/spaces)\n",
      "Keyboard interruption in main thread... closing server.\n",
      "Killing tunnel 127.0.0.1:7860 <> https://93fe45a8b022c869ff.gradio.live\n"
     ]
    },
    {
     "data": {
      "text/plain": []
     },
     "execution_count": 9,
     "metadata": {},
     "output_type": "execute_result"
    }
   ],
   "source": [
    "# Deploy the model\n",
    "demo.launch(inline=False, share=True, debug=True)"
   ]
  },
  {
   "cell_type": "code",
   "execution_count": 10,
   "metadata": {},
   "outputs": [
    {
     "name": "stdout",
     "output_type": "stream",
     "text": [
      "Closing server running on port: 7860\n"
     ]
    }
   ],
   "source": [
    "# Shut down the deployed model\n",
    "demo.close()"
   ]
  },
  {
   "cell_type": "code",
   "execution_count": null,
   "metadata": {},
   "outputs": [],
   "source": []
  }
 ],
 "metadata": {
  "kernelspec": {
   "display_name": "base",
   "language": "python",
   "name": "python3"
  },
  "language_info": {
   "codemirror_mode": {
    "name": "ipython",
    "version": 3
   },
   "file_extension": ".py",
   "mimetype": "text/x-python",
   "name": "python",
   "nbconvert_exporter": "python",
   "pygments_lexer": "ipython3",
   "version": "3.10.9"
  }
 },
 "nbformat": 4,
 "nbformat_minor": 2
}
